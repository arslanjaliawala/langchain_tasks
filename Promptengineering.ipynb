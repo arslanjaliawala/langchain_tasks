{
 "cells": [
  {
   "attachments": {},
   "cell_type": "markdown",
   "id": "4e196c71-d2d9-4dfb-ad4e-111d2a15f145",
   "metadata": {},
   "source": [
    "Thought Process\n",
    "Generalised techniques observed while prompt engineering for this task:\r\n",
    "\r\n",
    "1)\tPersonalization / Persona ( assigning the role to the LLM )\r\n",
    "2)\tIn the start, state a goal in concise and clear words.\r\n",
    "3)\tAs much detail as needed to give the model clear context of what is needed \r\n",
    "4)\tUse of delimiters as needed S &  &yHstem urrP M Meeomptsssage\r\n",
    "5)\tChain Of Thought Prompting i.e. teach the model to think step by step. Break down the problem into simpler and tell the LLM what is to be done at each step steps.\r\n",
    "6)\tZero Shot with a complete  & structureoutline of how the response is expected fromdel.\n",
    "\n",
    "\n",
    " the moPost Script Note: I recreated your provided excel sheet and populated it with some synthetic data to observe the quality of responses and the efficacy of the prompt as well. Please find the excel sheet as well as the generated output as a pdf file as well."
   ]
  },
  {
   "cell_type": "code",
   "execution_count": null,
   "id": "ec86d45d-1c49-462c-b5a1-108666d72a33",
   "metadata": {},
   "outputs": [],
   "source": [
    "# importing all relevant libraries\n",
    "import pandas as pd\n",
    "import os\n",
    "from langchain_core.messages import HumanMessage\n",
    "from langchain_openai import AzureChatOpenAI\n",
    "from langchain_core.messages import HumanMessage, SystemMessage\n",
    "from fpdf import FPDF\n",
    "\n",
    "\n",
    "# loading the excel file and storing it to a dataframef, printing the dataframe\n",
    "excel_file_path = 'Downloads/studentinfo.xlsx'\n",
    "df = pd.read_excel(excel_file_path)\n",
    "print(df)"
   ]
  },
  {
   "cell_type": "code",
   "execution_count": null,
   "id": "a391da42-afdd-43f2-848e-9e7d9205f1d5",
   "metadata": {},
   "outputs": [],
   "source": [
    "os.environ[\"AZURE_OPENAI_API_KEY\"] = \"\"\n",
    "os.environ[\"AZURE_OPENAI_ENDPOINT\"] = \"\"\n",
    "os.environ[\"AZURE_OPENAI_API_VERSION\"] = \"\"\n",
    "os.environ[\"AZURE_OPENAI_CHAT_DEPLOYMENT_NAME\"] = \"\""
   ]
  },
  {
   "cell_type": "code",
   "execution_count": null,
   "id": "5dcb597b-0733-4b5e-8215-a293945952d1",
   "metadata": {},
   "outputs": [],
   "source": [
    "#setting up my LLM\n",
    "model = AzureChatOpenAI(\n",
    "    openai_api_version=os.environ[\"AZURE_OPENAI_API_VERSION\"],\n",
    "    azure_deployment=os.environ[\"AZURE_OPENAI_CHAT_DEPLOYMENT_NAME\"],\n",
    ")"
   ]
  },
  {
   "cell_type": "code",
   "execution_count": null,
   "id": "dbdaac65-5ad8-41df-bd7d-f745a5451d8c",
   "metadata": {},
   "outputs": [],
   "source": [
    "#prompting the llm for the desired output, and appending it to a string. the loop acts as an iterator over the dataframe\n",
    "response = \"\"\n",
    "for x in range(0,df.shape[0]):\n",
    "    messages = [\n",
    "        SystemMessage(\n",
    "            content=\"\"\"You are an educational assistant tasked with creating personalized study plans for students based on the provided data. Each study plan should be tailored to the individual student's needs, preferences, and objectives. You will have access to the following information about each student:\n",
    "    ***\n",
    "    Name\n",
    "    Field of study\n",
    "    Year of study\n",
    "    List of subjects\n",
    "    Preferred Learning Styles (visual, auditory, kinesthetic)\n",
    "    Personal Objectives\n",
    "    Challenges\n",
    "    Extracurricular activities\n",
    "    ***\n",
    "    \n",
    "    Objective:\n",
    "    Create a detailed and individualized study plan that:\n",
    "    \n",
    "    Addresses the academic requirements.\n",
    "    Aligns with their preferred learning styles.\n",
    "    Incorporates their personal objectives and challenges.\n",
    "    Aligns with their extracurricular activities.\n",
    "    \n",
    "    Guidelines:\n",
    "    \n",
    "    Introduction:\n",
    "    \n",
    "    Begin with a brief overview of the student's academic profile, including their name, field of study, year of study, and subjects.\n",
    "    \n",
    "    Learning Style Adaptation:\n",
    "    Describe how the study plan will incorporate the student's preferred learning styles (e.g., visual aids, auditory resources, hands-on activities).\n",
    "    \n",
    "    Subject-Specific Strategies:\n",
    "    Provide detailed study strategies for each subject, tailored to the student's strengths and weaknesses.\n",
    "    \n",
    "    Personal Objectives:\n",
    "    Outline how the study plan will help the student achieve their personal objectives (e.g., preparing for a specific exam, improving in a particular subject).\n",
    "    \n",
    "    Addressing Challenges:\n",
    "    Identify the student's challenges and describe strategies to overcome them (e.g., additional support for learning difficulties, time management techniques).\n",
    "    \n",
    "    Extracurricular Balance:\n",
    "    How the extracurricular activity can be utilized to achieve the Challenges and Objectives?\n",
    "    \n",
    "    \"\"\"\n",
    "        ),\n",
    "        HumanMessage(\n",
    "            content=f\"\"\"\n",
    "\n",
    "    The following are the credentials for the user that you have to prepare a personalized plan for. Analyze this information step by step as you prepare the personalized plan.\n",
    "    ***\n",
    "    Name : {df.iloc[x][0]},\n",
    "    Field of study :{df.iloc[x][1]},\n",
    "    Year of study :{df.iloc[x][2]},\n",
    "    List of subjects :{df.iloc[x][3]},\n",
    "    Preferred Learning Styles : {df.iloc[x][4]},\n",
    "    Personal Objectives :{df.iloc[x][5]},\n",
    "    Challenges :{df.iloc[x][6]},\n",
    "    Extracurricular activities :{df.iloc[x][7]}\n",
    "    ***\n",
    "    \"\"\"\n",
    "        )\n",
    "    ]\n",
    "    response += model.invoke(messages).content\n",
    "    response += \"\\n\\n\\n\"\n",
    "\n"
   ]
  },
  {
   "cell_type": "code",
   "execution_count": null,
   "id": "6735a92d-e4ca-4f6c-8af2-b719602b8d55",
   "metadata": {},
   "outputs": [],
   "source": [
    "#storing the personalized study plans to a pdf file\n",
    "pdf = FPDF()\n",
    "pdf.add_page()\n",
    "pdf.set_font(\"Arial\", size=12)\n",
    "pdf.multi_cell(0, 10, response.encode('latin-1', 'replace').decode('latin-1'))\n",
    "pdf_output_path = \"\"\n",
    "pdf.output(pdf_output_path)\n",
    "print(f\"PDF saved successfully at {pdf_output_path}\")"
   ]
  },
  {
   "cell_type": "code",
   "execution_count": null,
   "id": "9bf235c3-b542-4c0d-8c35-1e892981e8cb",
   "metadata": {},
   "outputs": [],
   "source": []
  }
 ],
 "metadata": {
  "kernelspec": {
   "display_name": "Python 3 (ipykernel)",
   "language": "python",
   "name": "python3"
  },
  "language_info": {
   "codemirror_mode": {
    "name": "ipython",
    "version": 3
   },
   "file_extension": ".py",
   "mimetype": "text/x-python",
   "name": "python",
   "nbconvert_exporter": "python",
   "pygments_lexer": "ipython3",
   "version": "3.10.14"
  }
 },
 "nbformat": 4,
 "nbformat_minor": 5
}
